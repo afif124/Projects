Import libraries
Lets first import the required libraries.

In [1]:
import pandas as pd
import numpy as np
Simple Test
Lets do a simple test to validate our environment.
In [3]:
print('Hello Capstone Project Course!')
Hello Capstone Project Course!
